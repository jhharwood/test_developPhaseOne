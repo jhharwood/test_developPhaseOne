{
 "cells": [
  {
   "cell_type": "markdown",
   "metadata": {
    "slideshow": {
     "slide_type": "subslide"
    }
   },
   "source": [
    "## Script for Developing Phase One Imagery\n",
    "### developPhaseOne_v2.0.py\n",
    "### J. Heath Harwood"
   ]
  },
  {
   "cell_type": "code",
   "execution_count": 16,
   "metadata": {},
   "outputs": [
    {
     "data": {
      "text/plain": [
       "'3.7.4 (default, Aug 13 2019, 20:35:49) \\n[GCC 7.3.0]'"
      ]
     },
     "execution_count": 16,
     "metadata": {},
     "output_type": "execute_result"
    }
   ],
   "source": [
    "import sys\n",
    "sys.version"
   ]
  },
  {
   "cell_type": "code",
   "execution_count": 17,
   "metadata": {
    "slideshow": {
     "slide_type": "slide"
    }
   },
   "outputs": [],
   "source": [
    "import os,re,sys,easygui,time,shutil\n",
    "import platform\n",
    "from datetime import datetime\n",
    "import phaseoneimageproc as poip\n",
    "import folium\n",
    "import json\n",
    "import calEO\n",
    "import easygui"
   ]
  },
  {
   "cell_type": "code",
   "execution_count": 18,
   "metadata": {
    "slideshow": {
     "slide_type": "skip"
    }
   },
   "outputs": [],
   "source": [
    "pyFileVersion = 'developPhaseOne.py v 2.0'"
   ]
  },
  {
   "cell_type": "code",
   "execution_count": 19,
   "metadata": {},
   "outputs": [
    {
     "name": "stdout",
     "output_type": "stream",
     "text": [
      "This is the scripts directory where developPhaseOne.py is running >>> /home/jovyan/work\n",
      "This is the scripts is running >>> developPhaseOne.py v 2.0\n"
     ]
    }
   ],
   "source": [
    "print (\"This is the scripts directory where developPhaseOne.py is running >>> \" + os.getcwd())\n",
    "print (\"This is the scripts is running >>> \" + pyFileVersion)"
   ]
  },
  {
   "cell_type": "markdown",
   "metadata": {
    "slideshow": {
     "slide_type": "slide"
    }
   },
   "source": [
    "### Specify Input Directoryies using GUI"
   ]
  },
  {
   "cell_type": "code",
   "execution_count": 2,
   "metadata": {
    "slideshow": {
     "slide_type": "fragment"
    }
   },
   "outputs": [
    {
     "ename": "TclError",
     "evalue": "no display name and no $DISPLAY environment variable",
     "output_type": "error",
     "traceback": [
      "\u001b[0;31m---------------------------------------------------------------------------\u001b[0m",
      "\u001b[0;31mTclError\u001b[0m                                  Traceback (most recent call last)",
      "\u001b[0;32m<ipython-input-2-e62147390e81>\u001b[0m in \u001b[0;36m<module>\u001b[0;34m\u001b[0m\n\u001b[1;32m     51\u001b[0m \u001b[0mwindow\u001b[0m \u001b[0;34m=\u001b[0m \u001b[0msg\u001b[0m\u001b[0;34m.\u001b[0m\u001b[0mWindow\u001b[0m\u001b[0;34m(\u001b[0m\u001b[0;34m'Phase One Flight Date Processing'\u001b[0m\u001b[0;34m,\u001b[0m \u001b[0mlocation\u001b[0m\u001b[0;34m=\u001b[0m\u001b[0mscreenlocation\u001b[0m\u001b[0;34m)\u001b[0m\u001b[0;34m.\u001b[0m\u001b[0mLayout\u001b[0m\u001b[0;34m(\u001b[0m\u001b[0mlayout\u001b[0m\u001b[0;34m)\u001b[0m\u001b[0;34m\u001b[0m\u001b[0;34m\u001b[0m\u001b[0m\n\u001b[1;32m     52\u001b[0m \u001b[0;34m\u001b[0m\u001b[0m\n\u001b[0;32m---> 53\u001b[0;31m \u001b[0mevent\u001b[0m\u001b[0;34m,\u001b[0m \u001b[0mvalues\u001b[0m \u001b[0;34m=\u001b[0m \u001b[0mwindow\u001b[0m\u001b[0;34m.\u001b[0m\u001b[0mRead\u001b[0m\u001b[0;34m(\u001b[0m\u001b[0;34m)\u001b[0m\u001b[0;34m\u001b[0m\u001b[0;34m\u001b[0m\u001b[0m\n\u001b[0m\u001b[1;32m     54\u001b[0m \u001b[0;34m\u001b[0m\u001b[0m\n\u001b[1;32m     55\u001b[0m print (values['_block1_'],values['_block2_'],values['_block3_'],\\\n",
      "\u001b[0;32m/opt/conda/lib/python3.7/site-packages/PySimpleGUI/PySimpleGUI.py\u001b[0m in \u001b[0;36mRead\u001b[0;34m(self, timeout, timeout_key)\u001b[0m\n\u001b[1;32m   5860\u001b[0m             \u001b[0;32mreturn\u001b[0m \u001b[0;32mNone\u001b[0m\u001b[0;34m,\u001b[0m \u001b[0;32mNone\u001b[0m\u001b[0;34m\u001b[0m\u001b[0;34m\u001b[0m\u001b[0m\n\u001b[1;32m   5861\u001b[0m         \u001b[0;32mif\u001b[0m \u001b[0;32mnot\u001b[0m \u001b[0mself\u001b[0m\u001b[0;34m.\u001b[0m\u001b[0mShown\u001b[0m\u001b[0;34m:\u001b[0m\u001b[0;34m\u001b[0m\u001b[0;34m\u001b[0m\u001b[0m\n\u001b[0;32m-> 5862\u001b[0;31m             \u001b[0mself\u001b[0m\u001b[0;34m.\u001b[0m\u001b[0m_Show\u001b[0m\u001b[0;34m(\u001b[0m\u001b[0;34m)\u001b[0m\u001b[0;34m\u001b[0m\u001b[0;34m\u001b[0m\u001b[0m\n\u001b[0m\u001b[1;32m   5863\u001b[0m         \u001b[0;32melse\u001b[0m\u001b[0;34m:\u001b[0m\u001b[0;34m\u001b[0m\u001b[0;34m\u001b[0m\u001b[0m\n\u001b[1;32m   5864\u001b[0m             \u001b[0;31m# if already have a button waiting, the return previously built results\u001b[0m\u001b[0;34m\u001b[0m\u001b[0;34m\u001b[0m\u001b[0;34m\u001b[0m\u001b[0m\n",
      "\u001b[0;32m/opt/conda/lib/python3.7/site-packages/PySimpleGUI/PySimpleGUI.py\u001b[0m in \u001b[0;36m_Show\u001b[0;34m(self, non_blocking)\u001b[0m\n\u001b[1;32m   5728\u001b[0m             \u001b[0mself\u001b[0m\u001b[0;34m.\u001b[0m\u001b[0mUseDefaultFocus\u001b[0m \u001b[0;34m=\u001b[0m \u001b[0;32mFalse\u001b[0m\u001b[0;34m\u001b[0m\u001b[0;34m\u001b[0m\u001b[0m\n\u001b[1;32m   5729\u001b[0m         \u001b[0;31m# -=-=-=-=-=-=-=-=- RUN the GUI -=-=-=-=-=-=-=-=- ##\u001b[0m\u001b[0;34m\u001b[0m\u001b[0;34m\u001b[0m\u001b[0;34m\u001b[0m\u001b[0m\n\u001b[0;32m-> 5730\u001b[0;31m         \u001b[0mStartupTK\u001b[0m\u001b[0;34m(\u001b[0m\u001b[0mself\u001b[0m\u001b[0;34m)\u001b[0m\u001b[0;34m\u001b[0m\u001b[0;34m\u001b[0m\u001b[0m\n\u001b[0m\u001b[1;32m   5731\u001b[0m         \u001b[0;31m# If a button or keyboard event happened but no results have been built, build the results\u001b[0m\u001b[0;34m\u001b[0m\u001b[0;34m\u001b[0m\u001b[0;34m\u001b[0m\u001b[0m\n\u001b[1;32m   5732\u001b[0m         \u001b[0;32mif\u001b[0m \u001b[0mself\u001b[0m\u001b[0;34m.\u001b[0m\u001b[0mLastKeyboardEvent\u001b[0m \u001b[0;32mis\u001b[0m \u001b[0;32mnot\u001b[0m \u001b[0;32mNone\u001b[0m \u001b[0;32mor\u001b[0m \u001b[0mself\u001b[0m\u001b[0;34m.\u001b[0m\u001b[0mLastButtonClicked\u001b[0m \u001b[0;32mis\u001b[0m \u001b[0;32mnot\u001b[0m \u001b[0;32mNone\u001b[0m\u001b[0;34m:\u001b[0m\u001b[0;34m\u001b[0m\u001b[0;34m\u001b[0m\u001b[0m\n",
      "\u001b[0;32m/opt/conda/lib/python3.7/site-packages/PySimpleGUI/PySimpleGUI.py\u001b[0m in \u001b[0;36mStartupTK\u001b[0;34m(my_flex_form)\u001b[0m\n\u001b[1;32m   9466\u001b[0m         \u001b[0mroot\u001b[0m \u001b[0;34m=\u001b[0m \u001b[0mtk\u001b[0m\u001b[0;34m.\u001b[0m\u001b[0mToplevel\u001b[0m\u001b[0;34m(\u001b[0m\u001b[0;34m)\u001b[0m\u001b[0;34m\u001b[0m\u001b[0;34m\u001b[0m\u001b[0m\n\u001b[1;32m   9467\u001b[0m     \u001b[0;32melse\u001b[0m\u001b[0;34m:\u001b[0m\u001b[0;34m\u001b[0m\u001b[0;34m\u001b[0m\u001b[0m\n\u001b[0;32m-> 9468\u001b[0;31m         \u001b[0mroot\u001b[0m \u001b[0;34m=\u001b[0m \u001b[0mtk\u001b[0m\u001b[0;34m.\u001b[0m\u001b[0mToplevel\u001b[0m\u001b[0;34m(\u001b[0m\u001b[0;34m)\u001b[0m\u001b[0;34m\u001b[0m\u001b[0;34m\u001b[0m\u001b[0m\n\u001b[0m\u001b[1;32m   9469\u001b[0m \u001b[0;34m\u001b[0m\u001b[0m\n\u001b[1;32m   9470\u001b[0m     \u001b[0;32mif\u001b[0m \u001b[0mmy_flex_form\u001b[0m\u001b[0;34m.\u001b[0m\u001b[0mDebuggerEnabled\u001b[0m\u001b[0;34m:\u001b[0m\u001b[0;34m\u001b[0m\u001b[0;34m\u001b[0m\u001b[0m\n",
      "\u001b[0;32m/opt/conda/lib/python3.7/tkinter/__init__.py\u001b[0m in \u001b[0;36m__init__\u001b[0;34m(self, master, cnf, **kw)\u001b[0m\n\u001b[1;32m   2340\u001b[0m                 \u001b[0mextra\u001b[0m \u001b[0;34m=\u001b[0m \u001b[0mextra\u001b[0m \u001b[0;34m+\u001b[0m \u001b[0;34m(\u001b[0m\u001b[0mopt\u001b[0m\u001b[0;34m,\u001b[0m \u001b[0mval\u001b[0m\u001b[0;34m)\u001b[0m\u001b[0;34m\u001b[0m\u001b[0;34m\u001b[0m\u001b[0m\n\u001b[1;32m   2341\u001b[0m                 \u001b[0;32mdel\u001b[0m \u001b[0mcnf\u001b[0m\u001b[0;34m[\u001b[0m\u001b[0mwmkey\u001b[0m\u001b[0;34m]\u001b[0m\u001b[0;34m\u001b[0m\u001b[0;34m\u001b[0m\u001b[0m\n\u001b[0;32m-> 2342\u001b[0;31m         \u001b[0mBaseWidget\u001b[0m\u001b[0;34m.\u001b[0m\u001b[0m__init__\u001b[0m\u001b[0;34m(\u001b[0m\u001b[0mself\u001b[0m\u001b[0;34m,\u001b[0m \u001b[0mmaster\u001b[0m\u001b[0;34m,\u001b[0m \u001b[0;34m'toplevel'\u001b[0m\u001b[0;34m,\u001b[0m \u001b[0mcnf\u001b[0m\u001b[0;34m,\u001b[0m \u001b[0;34m{\u001b[0m\u001b[0;34m}\u001b[0m\u001b[0;34m,\u001b[0m \u001b[0mextra\u001b[0m\u001b[0;34m)\u001b[0m\u001b[0;34m\u001b[0m\u001b[0;34m\u001b[0m\u001b[0m\n\u001b[0m\u001b[1;32m   2343\u001b[0m         \u001b[0mroot\u001b[0m \u001b[0;34m=\u001b[0m \u001b[0mself\u001b[0m\u001b[0;34m.\u001b[0m\u001b[0m_root\u001b[0m\u001b[0;34m(\u001b[0m\u001b[0;34m)\u001b[0m\u001b[0;34m\u001b[0m\u001b[0;34m\u001b[0m\u001b[0m\n\u001b[1;32m   2344\u001b[0m         \u001b[0mself\u001b[0m\u001b[0;34m.\u001b[0m\u001b[0miconname\u001b[0m\u001b[0;34m(\u001b[0m\u001b[0mroot\u001b[0m\u001b[0;34m.\u001b[0m\u001b[0miconname\u001b[0m\u001b[0;34m(\u001b[0m\u001b[0;34m)\u001b[0m\u001b[0;34m)\u001b[0m\u001b[0;34m\u001b[0m\u001b[0;34m\u001b[0m\u001b[0m\n",
      "\u001b[0;32m/opt/conda/lib/python3.7/tkinter/__init__.py\u001b[0m in \u001b[0;36m__init__\u001b[0;34m(self, master, widgetName, cnf, kw, extra)\u001b[0m\n\u001b[1;32m   2290\u001b[0m             \u001b[0mcnf\u001b[0m \u001b[0;34m=\u001b[0m \u001b[0m_cnfmerge\u001b[0m\u001b[0;34m(\u001b[0m\u001b[0;34m(\u001b[0m\u001b[0mcnf\u001b[0m\u001b[0;34m,\u001b[0m \u001b[0mkw\u001b[0m\u001b[0;34m)\u001b[0m\u001b[0;34m)\u001b[0m\u001b[0;34m\u001b[0m\u001b[0;34m\u001b[0m\u001b[0m\n\u001b[1;32m   2291\u001b[0m         \u001b[0mself\u001b[0m\u001b[0;34m.\u001b[0m\u001b[0mwidgetName\u001b[0m \u001b[0;34m=\u001b[0m \u001b[0mwidgetName\u001b[0m\u001b[0;34m\u001b[0m\u001b[0;34m\u001b[0m\u001b[0m\n\u001b[0;32m-> 2292\u001b[0;31m         \u001b[0mBaseWidget\u001b[0m\u001b[0;34m.\u001b[0m\u001b[0m_setup\u001b[0m\u001b[0;34m(\u001b[0m\u001b[0mself\u001b[0m\u001b[0;34m,\u001b[0m \u001b[0mmaster\u001b[0m\u001b[0;34m,\u001b[0m \u001b[0mcnf\u001b[0m\u001b[0;34m)\u001b[0m\u001b[0;34m\u001b[0m\u001b[0;34m\u001b[0m\u001b[0m\n\u001b[0m\u001b[1;32m   2293\u001b[0m         \u001b[0;32mif\u001b[0m \u001b[0mself\u001b[0m\u001b[0;34m.\u001b[0m\u001b[0m_tclCommands\u001b[0m \u001b[0;32mis\u001b[0m \u001b[0;32mNone\u001b[0m\u001b[0;34m:\u001b[0m\u001b[0;34m\u001b[0m\u001b[0;34m\u001b[0m\u001b[0m\n\u001b[1;32m   2294\u001b[0m             \u001b[0mself\u001b[0m\u001b[0;34m.\u001b[0m\u001b[0m_tclCommands\u001b[0m \u001b[0;34m=\u001b[0m \u001b[0;34m[\u001b[0m\u001b[0;34m]\u001b[0m\u001b[0;34m\u001b[0m\u001b[0;34m\u001b[0m\u001b[0m\n",
      "\u001b[0;32m/opt/conda/lib/python3.7/tkinter/__init__.py\u001b[0m in \u001b[0;36m_setup\u001b[0;34m(self, master, cnf)\u001b[0m\n\u001b[1;32m   2257\u001b[0m             \u001b[0;32mif\u001b[0m \u001b[0;32mnot\u001b[0m \u001b[0mmaster\u001b[0m\u001b[0;34m:\u001b[0m\u001b[0;34m\u001b[0m\u001b[0;34m\u001b[0m\u001b[0m\n\u001b[1;32m   2258\u001b[0m                 \u001b[0;32mif\u001b[0m \u001b[0;32mnot\u001b[0m \u001b[0m_default_root\u001b[0m\u001b[0;34m:\u001b[0m\u001b[0;34m\u001b[0m\u001b[0;34m\u001b[0m\u001b[0m\n\u001b[0;32m-> 2259\u001b[0;31m                     \u001b[0m_default_root\u001b[0m \u001b[0;34m=\u001b[0m \u001b[0mTk\u001b[0m\u001b[0;34m(\u001b[0m\u001b[0;34m)\u001b[0m\u001b[0;34m\u001b[0m\u001b[0;34m\u001b[0m\u001b[0m\n\u001b[0m\u001b[1;32m   2260\u001b[0m                 \u001b[0mmaster\u001b[0m \u001b[0;34m=\u001b[0m \u001b[0m_default_root\u001b[0m\u001b[0;34m\u001b[0m\u001b[0;34m\u001b[0m\u001b[0m\n\u001b[1;32m   2261\u001b[0m         \u001b[0mself\u001b[0m\u001b[0;34m.\u001b[0m\u001b[0mmaster\u001b[0m \u001b[0;34m=\u001b[0m \u001b[0mmaster\u001b[0m\u001b[0;34m\u001b[0m\u001b[0;34m\u001b[0m\u001b[0m\n",
      "\u001b[0;32m/opt/conda/lib/python3.7/tkinter/__init__.py\u001b[0m in \u001b[0;36m__init__\u001b[0;34m(self, screenName, baseName, className, useTk, sync, use)\u001b[0m\n\u001b[1;32m   2021\u001b[0m                 \u001b[0mbaseName\u001b[0m \u001b[0;34m=\u001b[0m \u001b[0mbaseName\u001b[0m \u001b[0;34m+\u001b[0m \u001b[0mext\u001b[0m\u001b[0;34m\u001b[0m\u001b[0;34m\u001b[0m\u001b[0m\n\u001b[1;32m   2022\u001b[0m         \u001b[0minteractive\u001b[0m \u001b[0;34m=\u001b[0m \u001b[0;36m0\u001b[0m\u001b[0;34m\u001b[0m\u001b[0;34m\u001b[0m\u001b[0m\n\u001b[0;32m-> 2023\u001b[0;31m         \u001b[0mself\u001b[0m\u001b[0;34m.\u001b[0m\u001b[0mtk\u001b[0m \u001b[0;34m=\u001b[0m \u001b[0m_tkinter\u001b[0m\u001b[0;34m.\u001b[0m\u001b[0mcreate\u001b[0m\u001b[0;34m(\u001b[0m\u001b[0mscreenName\u001b[0m\u001b[0;34m,\u001b[0m \u001b[0mbaseName\u001b[0m\u001b[0;34m,\u001b[0m \u001b[0mclassName\u001b[0m\u001b[0;34m,\u001b[0m \u001b[0minteractive\u001b[0m\u001b[0;34m,\u001b[0m \u001b[0mwantobjects\u001b[0m\u001b[0;34m,\u001b[0m \u001b[0museTk\u001b[0m\u001b[0;34m,\u001b[0m \u001b[0msync\u001b[0m\u001b[0;34m,\u001b[0m \u001b[0muse\u001b[0m\u001b[0;34m)\u001b[0m\u001b[0;34m\u001b[0m\u001b[0;34m\u001b[0m\u001b[0m\n\u001b[0m\u001b[1;32m   2024\u001b[0m         \u001b[0;32mif\u001b[0m \u001b[0museTk\u001b[0m\u001b[0;34m:\u001b[0m\u001b[0;34m\u001b[0m\u001b[0;34m\u001b[0m\u001b[0m\n\u001b[1;32m   2025\u001b[0m             \u001b[0mself\u001b[0m\u001b[0;34m.\u001b[0m\u001b[0m_loadtk\u001b[0m\u001b[0;34m(\u001b[0m\u001b[0;34m)\u001b[0m\u001b[0;34m\u001b[0m\u001b[0;34m\u001b[0m\u001b[0m\n",
      "\u001b[0;31mTclError\u001b[0m: no display name and no $DISPLAY environment variable"
     ]
    }
   ],
   "source": [
    "''' This is a GUI layout using PySimpleGUI\n",
    "    The purpose of this gui is to:\n",
    "        - define file paths to processing raw image directories\n",
    "        - define the zone number and zone hemisphere\n",
    "        - get the number of processors for running COPE and IrfanView\n",
    "\n",
    "'''\n",
    "import PySimpleGUI as sg\n",
    "# Defining the column layout for number of processors to COPE to use; we also define it's value key in order to\n",
    "# load the number or procs to a variable\n",
    "column1 = [\n",
    "            [sg.Text('COPE', background_color='#FFFFFF', justification='center', size=(10, 1))],      \n",
    "            [sg.Spin([i for i in range(1,13)], initial_value=4,key='_nCopeProc_',tooltip='Best to keep the tif generation to 4 CPUs'), sg.Text('Number of COPE CPUs')],            \n",
    "        ] \n",
    "\n",
    "# Defining the column layout for number of processors to IrfanView to use; we also define it's value key in order to\n",
    "# load the number or procs to a variable\n",
    "column2 = [\n",
    "            [sg.Text('IRFANVIEW', background_color='#FFFFFF', justification='center', size=(10, 1))],      \n",
    "            [sg.Spin([i for i in range(1,13)], initial_value=4,key='_nIrfanProc_',tooltip='Best to keep the jpeg generation to 4 CPUs'), sg.Text('Number of irFanView CPUs')],            \n",
    "        ] \n",
    "\n",
    "# Define the layout of the entire GUI here with value keys in order to assign selections to variables\n",
    "layout = [ \n",
    "            [sg.Text('Flight Date Block Folder',size=(18, 1)),sg.InputText(key='_block1_',tooltip='Browse to Block Folder Only!'), sg.FolderBrowse(initial_folder=r'D:\\2019_NCMP_GL\\processing\\camera')],\n",
    "            [sg.Text('Flight Date Block Folder',size=(18, 1)),sg.InputText(key='_block2_',tooltip='Browse to Block Folder Only!'), sg.FolderBrowse(initial_folder=r'D:\\2019_NCMP_GL\\processing\\camera')],\n",
    "            [sg.Text('Flight Date Block Folder',size=(18, 1)),sg.InputText(key='_block3_',tooltip='Browse to Block Folder Only!'), sg.FolderBrowse(initial_folder=r'D:\\2019_NCMP_GL\\processing\\camera')],\n",
    "            [sg.Text('Flight Date Block Folder',size=(18, 1)),sg.InputText(key='_block4_',tooltip='Browse to Block Folder Only!'), sg.FolderBrowse(initial_folder=r'D:\\2019_NCMP_GL\\processing\\camera')],\n",
    "            [sg.Text('Flight Date Block Folder',size=(18, 1)),sg.InputText(key='_block5_',tooltip='Browse to Block Folder Only!'), sg.FolderBrowse(initial_folder=r'D:\\2019_NCMP_GL\\processing\\camera')],\n",
    "            [sg.Text('Flight Date Block Folder',size=(18, 1)),sg.InputText(key='_block6_',tooltip='Browse to Block Folder Only!'), sg.FolderBrowse(initial_folder='D:\\\\')],\n",
    "            [sg.Text('Flight Date Block Folder',size=(18, 1)),sg.InputText(key='_block7_',tooltip='Browse to Block Folder Only!'), sg.FolderBrowse(initial_folder='D:\\\\')],\n",
    "            [sg.Text('Flight Date Block Folder',size=(18, 1)),sg.InputText(key='_block8_',tooltip='Browse to Block Folder Only!'), sg.FolderBrowse(initial_folder='D:\\\\')],\n",
    "            [sg.Text('Flight Date Block Folder',size=(18, 1)),sg.InputText(key='_block9_',tooltip='Browse to Block Folder Only!'), sg.FolderBrowse(initial_folder='D:\\\\')],\n",
    "            [sg.Text('Zone Number', size=(15, 1)), sg.InputText('16', key='_zoneNum_',tooltip='For > 50% of data')],\n",
    "            [sg.Text('Zone Hemisphere', size=(15, 1)), sg.InputText('N', key='_zoneHem_',tooltip='N Unless South of Equator')],\n",
    "            [sg.Text('Camera and Install', size=(18, 1)),sg.InputCombo(['YC030333_20200113','MM000134_20190905','MM000174_20190607','YC030284_20190514','MM000174_20190325','YC030333_20181115'],key='_caminstall_',pad=(5,5),size=(22, 1),tooltip='Check the spreadsheet')],\n",
    "            [sg.Text('Support Folder Path',size=(18, 1)),sg.InputText(r'B:\\Support',key='_supportpath_',tooltip='Set this path if not correct'), sg.FolderBrowse(initial_folder=r'B:\\Support')],\n",
    "            [sg.Frame('Number of Processors',[[sg.Column(column1, background_color='#bebebe'),\n",
    "             sg.Column(column2, background_color='#bebebe')]])],\n",
    "            [sg.Frame('Develop both the PhaseOne Images tifs and scaled jpegs?',[[sg.InputCombo(['Tifs and Scaled Jpegs','Jpgs and Scaled Jpegs','Tifs Only', 'Scaled Jpegs Only','Rerun the EO/KMZ'],\n",
    "                                                             key='_choice_',pad=(10,10))]])],\n",
    "            [sg.Frame('Sbet bet available?', [[sg.Checkbox('Have Sbet', default=True,key='checked',pad=(5,5),tooltip=\"Uncheck if an sbet hasn't been created yet.\" )]])],\n",
    "            [sg.Text('Path to COPE executable',size=(21, 1)),sg.InputText(r'C:\\cope\\cope.exe',key='_cope_',tooltip='Set this path if not correct'), sg.FolderBrowse(initial_folder=r'C:\\cope')],\n",
    "            [sg.Text('Path to IrFanView executable',size=(21, 1)),sg.InputText(r'C:\\IrfanView\\i_view64.exe',key='_irfanview_',tooltip='Set this path if not correct'), sg.FolderBrowse(initial_folder=r'C:\\IrfanView')],\n",
    "            [sg.Submit(),sg.Exit()]\n",
    "\n",
    "        ]\n",
    "           \n",
    "screenlocation = (600,200)\n",
    "\n",
    "window = sg.Window('Phase One Flight Date Processing', location=screenlocation).Layout(layout)\n",
    "\n",
    "event, values = window.Read()   \n",
    "    \n",
    "print (values['_block1_'],values['_block2_'],values['_block3_'],\\\n",
    "values['_block4_'],values['_block5_'],values['_block5_'],values['_block6_'],\\\n",
    "values['_block7_'],values['_block8_'],values['_block9_'],values['_zoneNum_'],values['_zoneHem_'],\\\n",
    "values['_nCopeProc_'],values['_nIrfanProc_'],values['_choice_'],values['_cope_'],values['_irfanview_'],\\\n",
    "values['_caminstall_'],values['_supportpath_'],values['checked'])\n",
    "\n",
    "window.Close()\n"
   ]
  },
  {
   "cell_type": "code",
   "execution_count": null,
   "metadata": {
    "slideshow": {
     "slide_type": "fragment"
    }
   },
   "outputs": [],
   "source": [
    "zoneNum = values['_zoneNum_']\n",
    "zoneHem = values['_zoneHem_']\n",
    "#print zoneNum, zoneHem"
   ]
  },
  {
   "cell_type": "markdown",
   "metadata": {
    "slideshow": {
     "slide_type": "slide"
    }
   },
   "source": [
    "### Define number of processors"
   ]
  },
  {
   "cell_type": "code",
   "execution_count": null,
   "metadata": {
    "slideshow": {
     "slide_type": "fragment"
    }
   },
   "outputs": [],
   "source": [
    "nCopeProc = int(values['_nCopeProc_'])\n",
    "cope = values['_cope_']\n",
    "nIrfanProc = int(values['_nIrfanProc_'])\n",
    "irfanview = values['_irfanview_']\n",
    "#print nCopeProc, nIrfanProc\n",
    "copeSwCmd = []\n",
    "irfSwCmd = []\n",
    "prev_time = -1"
   ]
  },
  {
   "cell_type": "markdown",
   "metadata": {},
   "source": [
    "### Scan Block Folders to get images and exif logs"
   ]
  },
  {
   "cell_type": "code",
   "execution_count": null,
   "metadata": {
    "scrolled": true
   },
   "outputs": [],
   "source": [
    "blocks = [values['_block1_'],values['_block2_'],\\\n",
    "          values['_block3_'],values['_block4_'],\\\n",
    "          values['_block5_'],values['_block6_'],\\\n",
    "          values['_block7_'],values['_block8_'],\\\n",
    "          values['_block9_']]\n",
    "blocks = list(filter(None,blocks))\n",
    "\n",
    "camInstall = values['_caminstall_']\n",
    "supportPath = values['_supportpath_']\n",
    "\n",
    "# Loop through raw block folders and process data\n",
    "for block in blocks:\n",
    "    \n",
    "    # Scan block folders and get block info (ie, raw block path, block name, \n",
    "    # area name, exif log, camera system model number)\n",
    "    blockInfo = poip.scanBlock(block)\n",
    "    rawBlkPath = blockInfo[0]\n",
    "    #print rawBlkPath\n",
    "    blkName = blockInfo[1]\n",
    "    areaName = blockInfo[2][0]\n",
    "    flightDateNum = blockInfo[3][0]\n",
    "    exifLog = blockInfo[4]\n",
    "    camSysModel = blockInfo[5][0]\n",
    "\n",
    "    sbetProc = values['checked']\n",
    "    path2Imgs = os.path.join(str(rawBlkPath + '\\\\' + camSysModel))\n",
    "    path2exifLog = os.path.join(str(rawBlkPath + '\\\\' + camSysModel + '\\\\' + exifLog))\n",
    "    \n",
    "    \n",
    "    # Get the first event time in the exif log to create the DC directory time stamp\n",
    "    evt1TimeName = poip.getEvt1Time(path2exifLog)\n",
    "    \n",
    "    # Set the flight date and timestamp for the DC directory\n",
    "    flightDate = flightDateNum[2:8]\n",
    "    dcTimeStamp = evt1TimeName[0] + evt1TimeName[1] \n",
    "    # DC directory name will only have the date and timestamp\n",
    "    # Letter can be appended when Lidar dataset is known\n",
    "    dcDirName = (\"DC_DS_P_%s_%s\")%(flightDate,dcTimeStamp)\n",
    "    driveLetter = rawBlkPath.split('\\\\')[0]\n",
    "    camDir = rawBlkPath.split('\\\\')[1:5]\n",
    "    camAreaDir = os.path.join(*camDir)\n",
    "    datasetLoc = driveLetter + '\\\\' + camAreaDir\n",
    "    \n",
    "    # Build Block directory\n",
    "    blkDir = datasetLoc + '\\\\' + blkName\n",
    "    poip.buildBlkDir(blkDir)\n",
    "\n",
    "    # Define and build dataset directory\n",
    "    tifPath = datasetLoc + '\\\\' + blkName + '\\\\' + dcDirName\n",
    "    poip.buildDSDir(tifPath)\n",
    "    \n",
    "    # Create log file\n",
    "    logTimeName = datetime.now().strftime(tifPath+'\\\\'+dcDirName+'_proc_log_%Y%m%d_%H%M%d.txt')\n",
    "    logFile =open(logTimeName, 'w')\n",
    "\n",
    "    # set start timer to gage processing time\n",
    "    start = time.time()\n",
    "    startTimeMsg = datetime.now().strftime('%m\\%d\\%Y %H:%M:%d')+\"    Starting PhaseOne processing script.\\n\"\n",
    "    logFile.writelines(startTimeMsg)\n",
    "    print (startTimeMsg)\n",
    "\n",
    "    # Get computer name\n",
    "    compName = platform.uname()[1]\n",
    "    compNameInfoMsg = datetime.now().strftime('%m\\%d\\%Y %H:%M:%d')+\"    Data is being processed on \"+compName+\".\\n\"\n",
    "    logFile.writelines(compNameInfoMsg)\n",
    "    print (compNameInfoMsg)\n",
    "\n",
    "    # print the file name in the log file\n",
    "    pyFileRunMsg = datetime.now().strftime('%m\\%d\\%Y %H:%M:%d')+\"    Data is being processed with \"+pyFileVersion+\".\\n\"\n",
    "    logFile.writelines(pyFileRunMsg)\n",
    "    print (pyFileRunMsg)\n",
    "\n",
    "    # Define year/month/day\n",
    "    year = \"20\" + str(dcDirName[8:10])\n",
    "    month = str(dcDirName[10:12])\n",
    "    day = str(dcDirName[12:14])\n",
    "    #print year, month, day\n",
    "    # Name the kml from the name of the common working directory \"DC_*\"\n",
    "    name2 = str(dcDirName)\n",
    "    \n",
    "    # Copy czmil system files in to DC folder for IPAS processing\n",
    "    poip.copySysFiles(camInstall,tifPath,supportPath)\n",
    "\n",
    "    # Create the output files\n",
    "    evtFile = open(tifPath+'\\\\'+'event.evt', 'w')\n",
    "    frameSer = open(tifPath+'\\\\'+'frame_serialnumber.ser', 'w')\n",
    "    photoID = open(tifPath+'\\\\'+'photoID.txt', 'w')\n",
    "    photoIDPix4D = open(tifPath+'\\\\'+'photoID_for_pix4d.txt', 'w')\n",
    "    coarseDat = open(tifPath+'\\\\'+'coarse_lat_lon_ellHeight_roll_pitch_heading.dat', 'w')\n",
    "\n",
    "    # Create the master kml file in the mission directory and open for writing.\n",
    "    print \"Generating a KMZ file named: \\n\" + '_' +name2+\"_thumbs.kmz\\n\"\n",
    "    kml = open(os.path.join(tifPath+'\\\\'+'_' + name2+ \"_thumbs.kml\"), 'w')\n",
    "    #print kml\n",
    "\n",
    "    # Create the camera sync file needed for pfm3D Editor to view images during editing\n",
    "    csfName = str(dcDirName[8:])\n",
    "    cameraSyncR = open((tifPath+'\\\\'+'CameraSync_' + csfName + '_A_R.dat'), 'w')\n",
    "    #print cameraSyncR\n",
    "\n",
    "    # System number is used for chartsPic is actually not a CZMIL system but instead not a hof/tof/CM4800 file and disgnates the RCD30/PhaseOne Camera\n",
    "    sysNumR = ' system_num 4\\n'\n",
    "    cameraSyncR.writelines(sysNumR)\n",
    "    \n",
    "    # Parse ExifLog to create IPAS Files\n",
    "    # print the file name in the log file\n",
    "    exifDataInfoMsg = datetime.now().strftime('%m\\%d\\%Y %H:%M:%d') + \"    Parsing ExifLog.csv.\\n\"\n",
    "    logFile.writelines(exifDataInfoMsg)\n",
    "    print (exifDataInfoMsg)\n",
    "\n",
    "    # Get EO data \n",
    "    eoData = poip.readExif(path2exifLog)\n",
    "    \n",
    "    # Create ipas files \n",
    "    poip.createIPAS(eoData, year, month, day, evtFile, photoID, photoIDPix4D, frameSer, coarseDat) \n",
    "    \n",
    "    # Create the KML/KMZ from exif data\n",
    "    # Start looping through dat Check for text to skip header.\n",
    "    # print the file name in the log file\n",
    "    kmlLoopOverlayInfoMsg = datetime.now().strftime('%m\\%d\\%Y %H:%M:%d')+\"    Starting KML Overlay Loop...\\n\"\n",
    "    logFile.writelines(kmlLoopOverlayInfoMsg)\n",
    "    print (kmlLoopOverlayInfoMsg)\n",
    "\n",
    "    poip.processKML(eoData, name2, kml, year, month, day, prev_time, zoneNum, zoneHem, cameraSyncR)\n",
    "    \n",
    "    # Create the GeoJSON from exif data\n",
    "    location = poip.createGeoJson(eoData, tifPath, dcDirName)\n",
    "    geoLocLat = location[0]\n",
    "    geoLocLon = location[1]\n",
    "   \n",
    "    geo_path = tifPath+'\\\\'+dcDirName+'.geojson'\n",
    "    print (geo_path)\n",
    "\n",
    "    # Link to Esri World Imagery service plus attribution\n",
    "    EsriImagery = \"https://server.arcgisonline.com/ArcGIS/rest/services/World_Imagery/MapServer/tile/{z}/{y}/{x}\"\n",
    "    EsriAttribution = \"Tiles &copy; Esri &mdash; Source: Esri, i-cubed, USDA, USGS, AEX, GeoEye, Getmapping, Aerogrid, IGN, IGP, UPR-EGP, and the GIS User Community\"\n",
    "\n",
    "    m = folium.Map(location=[geoLocLat,geoLocLon], tiles=EsriImagery, attr=EsriAttribution, zoom_start=12)\n",
    "    folium.GeoJson(geo_path,name=name2,tooltip=folium.GeoJsonTooltip(fields=['Filename','Latitude','Longitude','GPS Event','GPS Time','Weeks:Seconds','Pitch','Roll','Yaw'])).add_to(m)\n",
    "    folium.LayerControl().add_to(m)\n",
    "    # Load map to notebook\n",
    "    m\n",
    "    # save map to notebook\n",
    "    geohtml = tifPath+'\\\\'+dcDirName+'_geojson_events.html'\n",
    "    folium.Map.save(m, geohtml)\n",
    "    \n",
    "    # Get number of images from image directory\n",
    "    \n",
    "    # Call function to get number of images\n",
    "    totFiles = poip.getNumImgs(path2Imgs)\n",
    "\n",
    "    # Write state to log\n",
    "    totFilesInfoMsg = datetime.now().strftime('%m\\%d\\%Y %H:%M:%d')+\"    Total number of images \"+str(totFiles)+\".\\n\"\n",
    "    logFile.writelines(totFilesInfoMsg)\n",
    "    print (totFilesInfoMsg)\n",
    "    \n",
    "    # Start Image processing\n",
    "    # Write state to log\n",
    "    tifJpegFilesInfoMsg = datetime.now().strftime('%m\\%d\\%Y %H:%M:%d')+\"    Started Image Processing.\\n\"\n",
    "    logFile.writelines(tifJpegFilesInfoMsg)\n",
    "    print (tifJpegFilesInfoMsg)\n",
    "\n",
    "    # define choice and call processImgs function\n",
    "    choice = values['_choice_']\n",
    "    poip.processImgs(poip.getImgs(path2Imgs),tifPath,copeSwCmd,irfSwCmd,nCopeProc,\\\n",
    "                     nIrfanProc,kml,name2,cameraSyncR,evtFile,photoID,frameSer,choice,cope,irfanview)\n",
    "\n",
    "    tifFinishedInfoMsg = datetime.now().strftime('%m\\%d\\%Y %H:%M:%d')+\"    Finshed Image Processing.\\n\"\n",
    "    logFile.writelines(tifFinishedInfoMsg)\n",
    "    print (tifFinishedInfoMsg)\n",
    "\n",
    "    # Write state to log\n",
    "    totTime = (time.time() - start)/60 \n",
    "    TotTimeInfoMsg = datetime.now().strftime('%m\\%d\\%Y %H:%M:%d')+\"    Total time to process data \"+str(totTime)+\" minutes.\\n\"\n",
    "    logFile.writelines(TotTimeInfoMsg)\n",
    "    print (TotTimeInfoMsg)\n",
    "\n",
    "    # Write state to log\n",
    "    secperimg =(time.time() - start)/totFiles\n",
    "    secpreimgTimeInfoMsg = datetime.now().strftime('%m\\%d\\%Y %H:%M:%d')+\"    Processed time per image \"+str(secperimg)+\" seconds.\\n\"\n",
    "    logFile.writelines(secpreimgTimeInfoMsg)\n",
    "    print (secpreimgTimeInfoMsg)\n",
    "    \n",
    "    if sbetProc == True:\n",
    "        sbetFile = blockInfo[6]\n",
    "        path2sbetFile = os.path.join(str(rawBlkPath + '\\\\' + camSysModel + '\\\\' + sbetFile))\n",
    "        path2sbetFileDC = tifPath + '\\\\' + sbetFile\n",
    "        shutil.copy2(path2sbetFile, path2sbetFileDC)\n",
    "        # Process the sbet file and create an EO file\n",
    "        \n",
    "        # Write state to log\n",
    "        eoStartInfoMsg = datetime.now().strftime('%m\\%d\\%Y %H:%M:%d')+\"    Started EO Processing.\\n\"\n",
    "        logFile.writelines(eoStartInfoMsg)\n",
    "        print (eoStartInfoMsg)\n",
    "        \n",
    "        # Run the EO calculator\n",
    "        calEO.calEO(eoData, path2sbetFile, tifPath, dcDirName, int(zoneNum))\n",
    "        \n",
    "        # Write state to log\n",
    "        eoFinishedInfoMsg = datetime.now().strftime('%m\\%d\\%Y %H:%M:%d')+\"    Finshed EO Processing.\\n\"\n",
    "        logFile.writelines(eoFinishedInfoMsg)\n",
    "        print (eoFinishedInfoMsg)\n",
    "        \n",
    "    else:\n",
    "        continue\n",
    "    \n",
    "    # Clean up\n",
    "    logFile.flush()\n",
    "    logFile.close()\n",
    "\n",
    "    del start\n",
    "\n",
    "    sleepsec = 1\n",
    "    print (\"Finished, closing in:\")\n",
    "    print (\"1 Seconds\")\n",
    "    time.sleep(sleepsec)"
   ]
  }
 ],
 "metadata": {
  "kernelspec": {
   "display_name": "Python 3",
   "language": "python",
   "name": "python3"
  },
  "language_info": {
   "codemirror_mode": {
    "name": "ipython",
    "version": 3
   },
   "file_extension": ".py",
   "mimetype": "text/x-python",
   "name": "python",
   "nbconvert_exporter": "python",
   "pygments_lexer": "ipython3",
   "version": "3.7.4"
  },
  "livereveal": {
   "backimage": "inlet_background_bigger.png",
   "footer": "<center><h3>Email: joseph.h.harwood@usace.army.mil</h3></center>",
   "header": "<center><h1>JALBTCX</h1></center>"
  }
 },
 "nbformat": 4,
 "nbformat_minor": 2
}
